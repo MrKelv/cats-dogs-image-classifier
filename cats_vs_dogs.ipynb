{
  "cells": [
    {
      "cell_type": "code",
      "execution_count": 1,
      "id": "0fb938ad",
      "metadata": {
        "id": "0fb938ad"
      },
      "outputs": [],
      "source": [
        "import os\n",
        "import urllib.request\n",
        "import zipfile\n",
        "import tensorflow as tf\n",
        "from tensorflow.keras.preprocessing.image import ImageDataGenerator\n",
        "from tensorflow.keras.callbacks import Callback"
      ]
    },
    {
      "cell_type": "code",
      "execution_count": 2,
      "id": "a4f27674",
      "metadata": {
        "id": "a4f27674"
      },
      "outputs": [],
      "source": [
        "data_url = \"https://github.com/dicodingacademy/assets/raw/main/Simulation/machine_learning/cats_and_dogs.zip\"\n",
        "urllib.request.urlretrieve(data_url, \"cats_and_dogs.zip\")\n",
        "local_file = \"cats_and_dogs.zip\"\n",
        "zip_ref = zipfile.ZipFile(local_file, \"r\")\n",
        "zip_ref.extractall(\"data/\")\n",
        "zip_ref.close()"
      ]
    },
    {
      "cell_type": "code",
      "execution_count": 3,
      "id": "2b3479cb",
      "metadata": {
        "id": "2b3479cb"
      },
      "outputs": [],
      "source": [
        "BASE_DIR = \"/content/data/cats_and_dogs_filtered\"\n",
        "train_dir = os.path.join(BASE_DIR, \"train\")\n",
        "validation_dir = os.path.join(BASE_DIR, \"validation\")"
      ]
    },
    {
      "cell_type": "code",
      "execution_count": 4,
      "id": "f5300693",
      "metadata": {
        "id": "f5300693"
      },
      "outputs": [],
      "source": [
        "train_datagen = ImageDataGenerator(\n",
        "    rescale=1/255,\n",
        "    rotation_range=40,\n",
        "    width_shift_range=0.2,\n",
        "    height_shift_range=0.2,\n",
        ")\n",
        "\n",
        "validation_datagen = ImageDataGenerator(\n",
        "    rescale=1/255\n",
        ")"
      ]
    },
    {
      "cell_type": "code",
      "execution_count": 5,
      "id": "8d2dd177",
      "metadata": {
        "id": "8d2dd177",
        "outputId": "b93c9422-2646-44cc-e149-e1cb48460d63",
        "colab": {
          "base_uri": "https://localhost:8080/"
        }
      },
      "outputs": [
        {
          "output_type": "stream",
          "name": "stdout",
          "text": [
            "Found 2000 images belonging to 2 classes.\n",
            "Found 1000 images belonging to 2 classes.\n"
          ]
        }
      ],
      "source": [
        "train_generator = train_datagen.flow_from_directory(\n",
        "    train_dir,\n",
        "    target_size=(150, 150),\n",
        "    batch_size=20,\n",
        "    class_mode='binary'\n",
        ")\n",
        "\n",
        "validation_generator = validation_datagen.flow_from_directory(\n",
        "    validation_dir,\n",
        "    target_size=(150, 150),\n",
        "    batch_size=20,\n",
        "    class_mode='binary'\n",
        ")"
      ]
    },
    {
      "cell_type": "code",
      "execution_count": 6,
      "id": "9537fb1c",
      "metadata": {
        "id": "9537fb1c"
      },
      "outputs": [],
      "source": [
        "class super_callback(Callback):\n",
        "    def on_epoch_end(self, epoch, logs={}):\n",
        "        if logs.get('accuracy') > 0.80 and logs.get('val_accuracy') > 0.80:\n",
        "            self.model.stop_training = True"
      ]
    },
    {
      "cell_type": "code",
      "execution_count": 7,
      "id": "8c1bdda9",
      "metadata": {
        "id": "8c1bdda9"
      },
      "outputs": [],
      "source": [
        "super_cb = super_callback()"
      ]
    },
    {
      "cell_type": "code",
      "execution_count": 8,
      "id": "bd5360c1",
      "metadata": {
        "id": "bd5360c1"
      },
      "outputs": [],
      "source": [
        "model = tf.keras.models.Sequential(\n",
        "        [\n",
        "            tf.keras.layers.Conv2D(\n",
        "                16, (3, 3), activation=\"relu\", input_shape=(150, 150, 3)\n",
        "            ),\n",
        "            tf.keras.layers.MaxPooling2D(2, 2),\n",
        "            tf.keras.layers.Conv2D(32, (3, 3), activation=\"relu\"),\n",
        "            tf.keras.layers.MaxPooling2D(2, 2),\n",
        "            tf.keras.layers.Conv2D(32, (3, 3), activation=\"relu\"),\n",
        "            tf.keras.layers.MaxPooling2D(2, 2),\n",
        "            tf.keras.layers.Conv2D(64, (3, 3), activation=\"relu\"),\n",
        "            tf.keras.layers.MaxPooling2D(2, 2),\n",
        "            tf.keras.layers.Conv2D(64, (3, 3), activation=\"relu\"),\n",
        "            tf.keras.layers.MaxPooling2D(2, 2),\n",
        "            tf.keras.layers.Flatten(),\n",
        "            tf.keras.layers.Dense(256, activation=\"relu\"),\n",
        "            tf.keras.layers.Dense(128, activation=\"relu\"),\n",
        "            tf.keras.layers.Dropout(0.5),\n",
        "            tf.keras.layers.Dense(1, activation=\"sigmoid\"),\n",
        "        ]\n",
        "    )"
      ]
    },
    {
      "cell_type": "code",
      "source": [
        "model.compile(optimizer='adam', loss='binary_crossentropy', metrics=['accuracy'])"
      ],
      "metadata": {
        "id": "DyKFMHJ57lu6"
      },
      "id": "DyKFMHJ57lu6",
      "execution_count": 9,
      "outputs": []
    },
    {
      "cell_type": "code",
      "execution_count": 10,
      "id": "880cd7c6",
      "metadata": {
        "id": "880cd7c6",
        "outputId": "8f9fbfb7-ae16-4b31-a78f-4107facc2579",
        "colab": {
          "base_uri": "https://localhost:8080/"
        }
      },
      "outputs": [
        {
          "output_type": "execute_result",
          "data": {
            "text/plain": [
              "<keras.callbacks.History at 0x7fc90c6edf50>"
            ]
          },
          "metadata": {},
          "execution_count": 10
        }
      ],
      "source": [
        "model.fit(\n",
        "        train_generator,\n",
        "        epochs=50,\n",
        "        verbose=0,\n",
        "        validation_data=validation_generator,\n",
        "        callbacks=[super_cb]\n",
        ")"
      ]
    },
    {
      "cell_type": "code",
      "execution_count": 11,
      "id": "07b6d4b6",
      "metadata": {
        "id": "07b6d4b6",
        "outputId": "69e74bf7-e4bd-42b8-d79f-1ab7ce196d38",
        "colab": {
          "base_uri": "https://localhost:8080/"
        }
      },
      "outputs": [
        {
          "output_type": "stream",
          "name": "stdout",
          "text": [
            "100/100 [==============================] - 14s 135ms/step - loss: 0.3804 - accuracy: 0.8315\n"
          ]
        },
        {
          "output_type": "execute_result",
          "data": {
            "text/plain": [
              "[0.380431592464447, 0.8314999938011169]"
            ]
          },
          "metadata": {},
          "execution_count": 11
        }
      ],
      "source": [
        "model.evaluate(train_generator)"
      ]
    },
    {
      "cell_type": "code",
      "execution_count": 12,
      "id": "86f94196",
      "metadata": {
        "id": "86f94196",
        "outputId": "00dbbe45-af00-4e97-d83a-650461892ac8",
        "colab": {
          "base_uri": "https://localhost:8080/"
        }
      },
      "outputs": [
        {
          "output_type": "stream",
          "name": "stdout",
          "text": [
            "50/50 [==============================] - 3s 54ms/step - loss: 0.4387 - accuracy: 0.8000\n"
          ]
        },
        {
          "output_type": "execute_result",
          "data": {
            "text/plain": [
              "[0.438650518655777, 0.800000011920929]"
            ]
          },
          "metadata": {},
          "execution_count": 12
        }
      ],
      "source": [
        "model.evaluate(validation_generator)"
      ]
    }
  ],
  "metadata": {
    "kernelspec": {
      "display_name": "Python 3 (ipykernel)",
      "language": "python",
      "name": "python3"
    },
    "language_info": {
      "codemirror_mode": {
        "name": "ipython",
        "version": 3
      },
      "file_extension": ".py",
      "mimetype": "text/x-python",
      "name": "python",
      "nbconvert_exporter": "python",
      "pygments_lexer": "ipython3",
      "version": "3.9.7"
    },
    "colab": {
      "name": "problem_c.ipynb",
      "provenance": []
    },
    "accelerator": "GPU",
    "gpuClass": "standard"
  },
  "nbformat": 4,
  "nbformat_minor": 5
}